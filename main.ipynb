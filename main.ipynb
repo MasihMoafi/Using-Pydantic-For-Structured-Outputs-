# Import libraries needed for the lesson

from pydantic import BaseModel, ValidationError, EmailStr
import json